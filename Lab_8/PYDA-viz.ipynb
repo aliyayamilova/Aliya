{
 "cells": [
  {
   "cell_type": "code",
   "execution_count": 72,
   "metadata": {},
   "outputs": [],
   "source": [
    "#увеличим дефолтный размер графиков\n",
    "from pylab import rcParams\n",
    "rcParams['figure.figsize'] = 10,7\n",
    "\n",
    "# импортируем нужные библиотеки\n",
    "import pandas as pd\n",
    "import matplotlib.pyplot as plt"
   ]
  },
  {
   "cell_type": "code",
   "execution_count": 105,
   "metadata": {},
   "outputs": [
    {
     "name": "stdout",
     "output_type": "stream",
     "text": [
      "<class 'pandas.core.frame.DataFrame'>\n",
      "RangeIndex: 996 entries, 0 to 995\n",
      "Data columns (total 7 columns):\n",
      " #   Column             Non-Null Count  Dtype  \n",
      "---  ------             --------------  -----  \n",
      " 0   title              996 non-null    object \n",
      " 1   rating             925 non-null    object \n",
      " 2   ratingLevel        866 non-null    object \n",
      " 3   ratingDescription  925 non-null    float64\n",
      " 4   release_year       925 non-null    float64\n",
      " 5   user_rating score  560 non-null    float64\n",
      " 6   user rating_size   925 non-null    float64\n",
      "dtypes: float64(4), object(3)\n",
      "memory usage: 54.6+ KB\n"
     ]
    }
   ],
   "source": [
    "df = pd.read_csv('Netflix Shows.csv')\n",
    "# print(df.shape)\n",
    "df.info()"
   ]
  },
  {
   "cell_type": "code",
   "execution_count": 106,
   "metadata": {},
   "outputs": [
    {
     "name": "stdout",
     "output_type": "stream",
     "text": [
      "(529, 7)\n"
     ]
    }
   ],
   "source": [
    "df = df.dropna()\n",
    "print(df.shape)"
   ]
  },
  {
   "cell_type": "code",
   "execution_count": 107,
   "metadata": {},
   "outputs": [
    {
     "data": {
      "text/html": [
       "<div>\n",
       "<style scoped>\n",
       "    .dataframe tbody tr th:only-of-type {\n",
       "        vertical-align: middle;\n",
       "    }\n",
       "\n",
       "    .dataframe tbody tr th {\n",
       "        vertical-align: top;\n",
       "    }\n",
       "\n",
       "    .dataframe thead th {\n",
       "        text-align: right;\n",
       "    }\n",
       "</style>\n",
       "<table border=\"1\" class=\"dataframe\">\n",
       "  <thead>\n",
       "    <tr style=\"text-align: right;\">\n",
       "      <th></th>\n",
       "      <th>title</th>\n",
       "      <th>rating</th>\n",
       "      <th>ratingLevel</th>\n",
       "      <th>ratingDescription</th>\n",
       "      <th>release_year</th>\n",
       "      <th>user_rating score</th>\n",
       "      <th>user rating_size</th>\n",
       "    </tr>\n",
       "  </thead>\n",
       "  <tbody>\n",
       "    <tr>\n",
       "      <th>2</th>\n",
       "      <td>Grey's Anatomy</td>\n",
       "      <td>TV-14</td>\n",
       "      <td>Parents strongly cautioned. May be unsuitable ...</td>\n",
       "      <td>90.0</td>\n",
       "      <td>2016.0</td>\n",
       "      <td>98.0</td>\n",
       "      <td>80.0</td>\n",
       "    </tr>\n",
       "    <tr>\n",
       "      <th>3</th>\n",
       "      <td>Prison Break</td>\n",
       "      <td>TV-14</td>\n",
       "      <td>Parents strongly cautioned. May be unsuitable ...</td>\n",
       "      <td>90.0</td>\n",
       "      <td>2008.0</td>\n",
       "      <td>98.0</td>\n",
       "      <td>80.0</td>\n",
       "    </tr>\n",
       "    <tr>\n",
       "      <th>4</th>\n",
       "      <td>How I Met Your Mother</td>\n",
       "      <td>TV-PG</td>\n",
       "      <td>Parental guidance suggested. May not be suitab...</td>\n",
       "      <td>70.0</td>\n",
       "      <td>2014.0</td>\n",
       "      <td>94.0</td>\n",
       "      <td>80.0</td>\n",
       "    </tr>\n",
       "    <tr>\n",
       "      <th>5</th>\n",
       "      <td>Supernatural</td>\n",
       "      <td>TV-14</td>\n",
       "      <td>Parents strongly cautioned. May be unsuitable ...</td>\n",
       "      <td>90.0</td>\n",
       "      <td>2016.0</td>\n",
       "      <td>95.0</td>\n",
       "      <td>80.0</td>\n",
       "    </tr>\n",
       "    <tr>\n",
       "      <th>6</th>\n",
       "      <td>Breaking Bad</td>\n",
       "      <td>TV-MA</td>\n",
       "      <td>For mature audiences.  May not be suitable for...</td>\n",
       "      <td>110.0</td>\n",
       "      <td>2013.0</td>\n",
       "      <td>97.0</td>\n",
       "      <td>80.0</td>\n",
       "    </tr>\n",
       "  </tbody>\n",
       "</table>\n",
       "</div>"
      ],
      "text/plain": [
       "                   title rating  \\\n",
       "2         Grey's Anatomy  TV-14   \n",
       "3           Prison Break  TV-14   \n",
       "4  How I Met Your Mother  TV-PG   \n",
       "5           Supernatural  TV-14   \n",
       "6           Breaking Bad  TV-MA   \n",
       "\n",
       "                                         ratingLevel  ratingDescription  \\\n",
       "2  Parents strongly cautioned. May be unsuitable ...               90.0   \n",
       "3  Parents strongly cautioned. May be unsuitable ...               90.0   \n",
       "4  Parental guidance suggested. May not be suitab...               70.0   \n",
       "5  Parents strongly cautioned. May be unsuitable ...               90.0   \n",
       "6  For mature audiences.  May not be suitable for...              110.0   \n",
       "\n",
       "   release_year  user_rating score  user rating_size  \n",
       "2        2016.0               98.0              80.0  \n",
       "3        2008.0               98.0              80.0  \n",
       "4        2014.0               94.0              80.0  \n",
       "5        2016.0               95.0              80.0  \n",
       "6        2013.0               97.0              80.0  "
      ]
     },
     "execution_count": 107,
     "metadata": {},
     "output_type": "execute_result"
    }
   ],
   "source": [
    "df.head()"
   ]
  },
  {
   "cell_type": "code",
   "execution_count": 86,
   "metadata": {},
   "outputs": [],
   "source": [
    "df['title'] = df.title.astype('object')\n",
    "# df['release year'] = df.release year.astype('float64')\n",
    "df['ratingDescription'] = df.ratingDescription.astype('float64')\n",
    "df['rating'] = df.rating.astype('object')"
   ]
  },
  {
   "cell_type": "code",
   "execution_count": 111,
   "metadata": {},
   "outputs": [
    {
     "data": {
      "text/html": [
       "<div>\n",
       "<style scoped>\n",
       "    .dataframe tbody tr th:only-of-type {\n",
       "        vertical-align: middle;\n",
       "    }\n",
       "\n",
       "    .dataframe tbody tr th {\n",
       "        vertical-align: top;\n",
       "    }\n",
       "\n",
       "    .dataframe thead th {\n",
       "        text-align: right;\n",
       "    }\n",
       "</style>\n",
       "<table border=\"1\" class=\"dataframe\">\n",
       "  <thead>\n",
       "    <tr style=\"text-align: right;\">\n",
       "      <th></th>\n",
       "      <th>ratingDescription</th>\n",
       "      <th>user_rating score</th>\n",
       "      <th>user rating_size</th>\n",
       "    </tr>\n",
       "    <tr>\n",
       "      <th>release_year</th>\n",
       "      <th></th>\n",
       "      <th></th>\n",
       "      <th></th>\n",
       "    </tr>\n",
       "  </thead>\n",
       "  <tbody>\n",
       "    <tr>\n",
       "      <th>1940.0</th>\n",
       "      <td>105.0</td>\n",
       "      <td>183.0</td>\n",
       "      <td>240.0</td>\n",
       "    </tr>\n",
       "    <tr>\n",
       "      <th>1978.0</th>\n",
       "      <td>120.0</td>\n",
       "      <td>172.0</td>\n",
       "      <td>160.0</td>\n",
       "    </tr>\n",
       "    <tr>\n",
       "      <th>1982.0</th>\n",
       "      <td>180.0</td>\n",
       "      <td>204.0</td>\n",
       "      <td>240.0</td>\n",
       "    </tr>\n",
       "    <tr>\n",
       "      <th>1986.0</th>\n",
       "      <td>140.0</td>\n",
       "      <td>268.0</td>\n",
       "      <td>320.0</td>\n",
       "    </tr>\n",
       "    <tr>\n",
       "      <th>1987.0</th>\n",
       "      <td>120.0</td>\n",
       "      <td>116.0</td>\n",
       "      <td>160.0</td>\n",
       "    </tr>\n",
       "    <tr>\n",
       "      <th>1990.0</th>\n",
       "      <td>164.0</td>\n",
       "      <td>260.0</td>\n",
       "      <td>320.0</td>\n",
       "    </tr>\n",
       "    <tr>\n",
       "      <th>1992.0</th>\n",
       "      <td>70.0</td>\n",
       "      <td>140.0</td>\n",
       "      <td>160.0</td>\n",
       "    </tr>\n",
       "    <tr>\n",
       "      <th>1993.0</th>\n",
       "      <td>490.0</td>\n",
       "      <td>765.0</td>\n",
       "      <td>720.0</td>\n",
       "    </tr>\n",
       "    <tr>\n",
       "      <th>1994.0</th>\n",
       "      <td>360.0</td>\n",
       "      <td>492.0</td>\n",
       "      <td>480.0</td>\n",
       "    </tr>\n",
       "    <tr>\n",
       "      <th>1995.0</th>\n",
       "      <td>235.0</td>\n",
       "      <td>394.0</td>\n",
       "      <td>480.0</td>\n",
       "    </tr>\n",
       "  </tbody>\n",
       "</table>\n",
       "</div>"
      ],
      "text/plain": [
       "              ratingDescription  user_rating score  user rating_size\n",
       "release_year                                                        \n",
       "1940.0                    105.0              183.0             240.0\n",
       "1978.0                    120.0              172.0             160.0\n",
       "1982.0                    180.0              204.0             240.0\n",
       "1986.0                    140.0              268.0             320.0\n",
       "1987.0                    120.0              116.0             160.0\n",
       "1990.0                    164.0              260.0             320.0\n",
       "1992.0                     70.0              140.0             160.0\n",
       "1993.0                    490.0              765.0             720.0\n",
       "1994.0                    360.0              492.0             480.0\n",
       "1995.0                    235.0              394.0             480.0"
      ]
     },
     "execution_count": 111,
     "metadata": {},
     "output_type": "execute_result"
    }
   ],
   "source": [
    "df1 = df[[x for x in df.columns if 'rating' in x] + ['release_year']]\\\n",
    "    .groupby('release_year').sum()\n",
    "df1.head(10)\n",
    "# df1 = df[['ratingDescription'] + ['title']]\\\n",
    "#     .groupby('release_year').sum()\n",
    "# df1.head(10)"
   ]
  },
  {
   "cell_type": "code",
   "execution_count": 112,
   "metadata": {},
   "outputs": [
    {
     "data": {
      "text/plain": [
       "<matplotlib.axes._subplots.AxesSubplot at 0x2c58b499e50>"
      ]
     },
     "execution_count": 112,
     "metadata": {},
     "output_type": "execute_result"
    },
    {
     "data": {
      "image/png": "[encoded data removed]",
      "text/plain": [
       "<Figure size 720x504 with 1 Axes>"
      ]
     },
     "metadata": {
      "needs_background": "light"
     },
     "output_type": "display_data"
    }
   ],
   "source": [
    "df1.plot()"
   ]
  },
  {
   "cell_type": "markdown",
   "metadata": {},
   "source": [
    "На основе выше полученной визуализации можно сделать вывод, что в период с 2010-2020 год начали делать более качественные и интересные сериалы. Об этом нам говорит повышающаяся статистика рейтинга(оценка пользователя) сериала."
   ]
  },
  {
   "cell_type": "code",
   "execution_count": 113,
   "metadata": {
    "scrolled": true
   },
   "outputs": [
    {
     "data": {
      "text/plain": [
       "<matplotlib.axes._subplots.AxesSubplot at 0x2c58b5121f0>"
      ]
     },
     "execution_count": 113,
     "metadata": {},
     "output_type": "execute_result"
    },
    {
     "data": {
      "image/png": "[encoded data removed]",
      "text/plain": [
       "<Figure size 720x504 with 1 Axes>"
      ]
     },
     "metadata": {
      "needs_background": "light"
     },
     "output_type": "display_data"
    }
   ],
   "source": [
    "# Параметр rot отвечает за угол наклона подписей к оси x.\n",
    "df1.plot(kind='bar', rot=90)"
   ]
  },
  {
   "cell_type": "markdown",
   "metadata": {},
   "source": [
    "Из этого графика можно увидеть, что в 2016 году выходили самые высокооценённые сериалы. Далее рейтинг сериалов идёт на спад."
   ]
  },
  {
   "cell_type": "code",
   "execution_count": 114,
   "metadata": {},
   "outputs": [
    {
     "data": {
      "text/html": [
       "<div>\n",
       "<style scoped>\n",
       "    .dataframe tbody tr th:only-of-type {\n",
       "        vertical-align: middle;\n",
       "    }\n",
       "\n",
       "    .dataframe tbody tr th {\n",
       "        vertical-align: top;\n",
       "    }\n",
       "\n",
       "    .dataframe thead th {\n",
       "        text-align: right;\n",
       "    }\n",
       "</style>\n",
       "<table border=\"1\" class=\"dataframe\">\n",
       "  <thead>\n",
       "    <tr style=\"text-align: right;\">\n",
       "      <th></th>\n",
       "      <th>user rating_size</th>\n",
       "    </tr>\n",
       "    <tr>\n",
       "      <th>title</th>\n",
       "      <th></th>\n",
       "    </tr>\n",
       "  </thead>\n",
       "  <tbody>\n",
       "    <tr>\n",
       "      <th>13 Reasons Why</th>\n",
       "      <td>640.0</td>\n",
       "    </tr>\n",
       "    <tr>\n",
       "      <th>Prison Break</th>\n",
       "      <td>560.0</td>\n",
       "    </tr>\n",
       "    <tr>\n",
       "      <th>The Iron Giant</th>\n",
       "      <td>480.0</td>\n",
       "    </tr>\n",
       "    <tr>\n",
       "      <th>Pretty Little Liars</th>\n",
       "      <td>480.0</td>\n",
       "    </tr>\n",
       "    <tr>\n",
       "      <th>New Girl</th>\n",
       "      <td>480.0</td>\n",
       "    </tr>\n",
       "    <tr>\n",
       "      <th>Shameless (U.S.)</th>\n",
       "      <td>480.0</td>\n",
       "    </tr>\n",
       "    <tr>\n",
       "      <th>The Vampire Diaries</th>\n",
       "      <td>480.0</td>\n",
       "    </tr>\n",
       "    <tr>\n",
       "      <th>Grace and Frankie</th>\n",
       "      <td>480.0</td>\n",
       "    </tr>\n",
       "    <tr>\n",
       "      <th>Anastasia</th>\n",
       "      <td>480.0</td>\n",
       "    </tr>\n",
       "    <tr>\n",
       "      <th>Grey's Anatomy</th>\n",
       "      <td>480.0</td>\n",
       "    </tr>\n",
       "  </tbody>\n",
       "</table>\n",
       "</div>"
      ],
      "text/plain": [
       "                     user rating_size\n",
       "title                                \n",
       "13 Reasons Why                  640.0\n",
       "Prison Break                    560.0\n",
       "The Iron Giant                  480.0\n",
       "Pretty Little Liars             480.0\n",
       "New Girl                        480.0\n",
       "Shameless (U.S.)                480.0\n",
       "The Vampire Diaries             480.0\n",
       "Grace and Frankie               480.0\n",
       "Anastasia                       480.0\n",
       "Grey's Anatomy                  480.0"
      ]
     },
     "execution_count": 114,
     "metadata": {},
     "output_type": "execute_result"
    }
   ],
   "source": [
    "top_titles_df = df.groupby('title')[['user rating_size']].sum()\\\n",
    "    .sort_values('user rating_size', ascending=False).head(10)\n",
    "    \n",
    "top_titles_df"
   ]
  },
  {
   "cell_type": "code",
   "execution_count": 115,
   "metadata": {},
   "outputs": [
    {
     "data": {
      "text/html": [
       "<style  type=\"text/css\" >\n",
       "    #T_59793c73_1372_11eb_8878_dca2666f73a8row0_col0 {\n",
       "            width:  10em;\n",
       "             height:  80%;\n",
       "            background:  linear-gradient(90deg,#d65f5f 100.0%, transparent 100.0%);\n",
       "        }    #T_59793c73_1372_11eb_8878_dca2666f73a8row1_col0 {\n",
       "            width:  10em;\n",
       "             height:  80%;\n",
       "            background:  linear-gradient(90deg,#d65f5f 50.0%, transparent 50.0%);\n",
       "        }    #T_59793c73_1372_11eb_8878_dca2666f73a8row2_col0 {\n",
       "            width:  10em;\n",
       "             height:  80%;\n",
       "        }    #T_59793c73_1372_11eb_8878_dca2666f73a8row3_col0 {\n",
       "            width:  10em;\n",
       "             height:  80%;\n",
       "        }    #T_59793c73_1372_11eb_8878_dca2666f73a8row4_col0 {\n",
       "            width:  10em;\n",
       "             height:  80%;\n",
       "        }    #T_59793c73_1372_11eb_8878_dca2666f73a8row5_col0 {\n",
       "            width:  10em;\n",
       "             height:  80%;\n",
       "        }    #T_59793c73_1372_11eb_8878_dca2666f73a8row6_col0 {\n",
       "            width:  10em;\n",
       "             height:  80%;\n",
       "        }    #T_59793c73_1372_11eb_8878_dca2666f73a8row7_col0 {\n",
       "            width:  10em;\n",
       "             height:  80%;\n",
       "        }    #T_59793c73_1372_11eb_8878_dca2666f73a8row8_col0 {\n",
       "            width:  10em;\n",
       "             height:  80%;\n",
       "        }    #T_59793c73_1372_11eb_8878_dca2666f73a8row9_col0 {\n",
       "            width:  10em;\n",
       "             height:  80%;\n",
       "        }</style><table id=\"T_59793c73_1372_11eb_8878_dca2666f73a8\" ><thead>    <tr>        <th class=\"blank level0\" ></th>        <th class=\"col_heading level0 col0\" >user rating_size</th>    </tr>    <tr>        <th class=\"index_name level0\" >title</th>        <th class=\"blank\" ></th>    </tr></thead><tbody>\n",
       "                <tr>\n",
       "                        <th id=\"T_59793c73_1372_11eb_8878_dca2666f73a8level0_row0\" class=\"row_heading level0 row0\" >13 Reasons Why</th>\n",
       "                        <td id=\"T_59793c73_1372_11eb_8878_dca2666f73a8row0_col0\" class=\"data row0 col0\" >640.000000</td>\n",
       "            </tr>\n",
       "            <tr>\n",
       "                        <th id=\"T_59793c73_1372_11eb_8878_dca2666f73a8level0_row1\" class=\"row_heading level0 row1\" >Prison Break</th>\n",
       "                        <td id=\"T_59793c73_1372_11eb_8878_dca2666f73a8row1_col0\" class=\"data row1 col0\" >560.000000</td>\n",
       "            </tr>\n",
       "            <tr>\n",
       "                        <th id=\"T_59793c73_1372_11eb_8878_dca2666f73a8level0_row2\" class=\"row_heading level0 row2\" >The Iron Giant</th>\n",
       "                        <td id=\"T_59793c73_1372_11eb_8878_dca2666f73a8row2_col0\" class=\"data row2 col0\" >480.000000</td>\n",
       "            </tr>\n",
       "            <tr>\n",
       "                        <th id=\"T_59793c73_1372_11eb_8878_dca2666f73a8level0_row3\" class=\"row_heading level0 row3\" >Pretty Little Liars</th>\n",
       "                        <td id=\"T_59793c73_1372_11eb_8878_dca2666f73a8row3_col0\" class=\"data row3 col0\" >480.000000</td>\n",
       "            </tr>\n",
       "            <tr>\n",
       "                        <th id=\"T_59793c73_1372_11eb_8878_dca2666f73a8level0_row4\" class=\"row_heading level0 row4\" >New Girl</th>\n",
       "                        <td id=\"T_59793c73_1372_11eb_8878_dca2666f73a8row4_col0\" class=\"data row4 col0\" >480.000000</td>\n",
       "            </tr>\n",
       "            <tr>\n",
       "                        <th id=\"T_59793c73_1372_11eb_8878_dca2666f73a8level0_row5\" class=\"row_heading level0 row5\" >Shameless (U.S.)</th>\n",
       "                        <td id=\"T_59793c73_1372_11eb_8878_dca2666f73a8row5_col0\" class=\"data row5 col0\" >480.000000</td>\n",
       "            </tr>\n",
       "            <tr>\n",
       "                        <th id=\"T_59793c73_1372_11eb_8878_dca2666f73a8level0_row6\" class=\"row_heading level0 row6\" >The Vampire Diaries</th>\n",
       "                        <td id=\"T_59793c73_1372_11eb_8878_dca2666f73a8row6_col0\" class=\"data row6 col0\" >480.000000</td>\n",
       "            </tr>\n",
       "            <tr>\n",
       "                        <th id=\"T_59793c73_1372_11eb_8878_dca2666f73a8level0_row7\" class=\"row_heading level0 row7\" >Grace and Frankie</th>\n",
       "                        <td id=\"T_59793c73_1372_11eb_8878_dca2666f73a8row7_col0\" class=\"data row7 col0\" >480.000000</td>\n",
       "            </tr>\n",
       "            <tr>\n",
       "                        <th id=\"T_59793c73_1372_11eb_8878_dca2666f73a8level0_row8\" class=\"row_heading level0 row8\" >Anastasia</th>\n",
       "                        <td id=\"T_59793c73_1372_11eb_8878_dca2666f73a8row8_col0\" class=\"data row8 col0\" >480.000000</td>\n",
       "            </tr>\n",
       "            <tr>\n",
       "                        <th id=\"T_59793c73_1372_11eb_8878_dca2666f73a8level0_row9\" class=\"row_heading level0 row9\" >Grey's Anatomy</th>\n",
       "                        <td id=\"T_59793c73_1372_11eb_8878_dca2666f73a8row9_col0\" class=\"data row9 col0\" >480.000000</td>\n",
       "            </tr>\n",
       "    </tbody></table>"
      ],
      "text/plain": [
       "<pandas.io.formats.style.Styler at 0x2c58b853400>"
      ]
     },
     "execution_count": 115,
     "metadata": {},
     "output_type": "execute_result"
    }
   ],
   "source": [
    "top_titles_df.style.bar()"
   ]
  },
  {
   "cell_type": "markdown",
   "metadata": {},
   "source": [
    "На основе этой визуализации видно, что наиболее популярными сериалы на сайте Нетфликс являются сериалы \"13 причин почему\" и \"Побег\"."
   ]
  },
  {
   "cell_type": "code",
   "execution_count": 116,
   "metadata": {},
   "outputs": [],
   "source": [
    "import seaborn as sns"
   ]
  },
  {
   "cell_type": "code",
   "execution_count": 117,
   "metadata": {},
   "outputs": [
    {
     "data": {
      "text/plain": [
       "<seaborn.axisgrid.PairGrid at 0x2c58b55fe20>"
      ]
     },
     "execution_count": 117,
     "metadata": {},
     "output_type": "execute_result"
    },
    {
     "data": {
      "image/png": "[encoded data removed]",
      "text/plain": [
       "<Figure size 540x540 with 12 Axes>"
      ]
     },
     "metadata": {
      "needs_background": "light"
     },
     "output_type": "display_data"
    }
   ],
   "source": [
    "sns_plot = sns.pairplot(\n",
    "    df[['user rating_size', 'user_rating score', 'ratingDescription']])\n",
    "sns_plot"
   ]
  },
  {
   "cell_type": "code",
   "execution_count": 130,
   "metadata": {},
   "outputs": [
    {
     "data": {
      "text/html": [
       "<div>\n",
       "<style scoped>\n",
       "    .dataframe tbody tr th:only-of-type {\n",
       "        vertical-align: middle;\n",
       "    }\n",
       "\n",
       "    .dataframe tbody tr th {\n",
       "        vertical-align: top;\n",
       "    }\n",
       "\n",
       "    .dataframe thead th {\n",
       "        text-align: right;\n",
       "    }\n",
       "</style>\n",
       "<table border=\"1\" class=\"dataframe\">\n",
       "  <thead>\n",
       "    <tr style=\"text-align: right;\">\n",
       "      <th></th>\n",
       "      <th>user rating_size</th>\n",
       "    </tr>\n",
       "    <tr>\n",
       "      <th>rating</th>\n",
       "      <th></th>\n",
       "    </tr>\n",
       "  </thead>\n",
       "  <tbody>\n",
       "    <tr>\n",
       "      <th>G</th>\n",
       "      <td>4240.0</td>\n",
       "    </tr>\n",
       "    <tr>\n",
       "      <th>NR</th>\n",
       "      <td>320.0</td>\n",
       "    </tr>\n",
       "    <tr>\n",
       "      <th>PG</th>\n",
       "      <td>6960.0</td>\n",
       "    </tr>\n",
       "    <tr>\n",
       "      <th>PG-13</th>\n",
       "      <td>480.0</td>\n",
       "    </tr>\n",
       "    <tr>\n",
       "      <th>R</th>\n",
       "      <td>160.0</td>\n",
       "    </tr>\n",
       "    <tr>\n",
       "      <th>TV-14</th>\n",
       "      <td>14640.0</td>\n",
       "    </tr>\n",
       "    <tr>\n",
       "      <th>TV-G</th>\n",
       "      <td>1920.0</td>\n",
       "    </tr>\n",
       "    <tr>\n",
       "      <th>TV-MA</th>\n",
       "      <td>6160.0</td>\n",
       "    </tr>\n",
       "    <tr>\n",
       "      <th>TV-PG</th>\n",
       "      <td>3040.0</td>\n",
       "    </tr>\n",
       "    <tr>\n",
       "      <th>TV-Y</th>\n",
       "      <td>2000.0</td>\n",
       "    </tr>\n",
       "  </tbody>\n",
       "</table>\n",
       "</div>"
      ],
      "text/plain": [
       "        user rating_size\n",
       "rating                  \n",
       "G                 4240.0\n",
       "NR                 320.0\n",
       "PG                6960.0\n",
       "PG-13              480.0\n",
       "R                  160.0\n",
       "TV-14            14640.0\n",
       "TV-G              1920.0\n",
       "TV-MA             6160.0\n",
       "TV-PG             3040.0\n",
       "TV-Y              2000.0"
      ]
     },
     "execution_count": 130,
     "metadata": {},
     "output_type": "execute_result"
    }
   ],
   "source": [
    "df2 = df[['user rating_size'] + ['rating']]\\\n",
    "    .groupby('rating').sum()\n",
    "df2.head(10)"
   ]
  },
  {
   "cell_type": "code",
   "execution_count": 131,
   "metadata": {},
   "outputs": [
    {
     "data": {
      "text/plain": [
       "<matplotlib.axes._subplots.AxesSubplot at 0x2c58d98c9d0>"
      ]
     },
     "execution_count": 131,
     "metadata": {},
     "output_type": "execute_result"
    },
    {
     "data": {
      "image/png": "[encoded data removed]",
      "text/plain": [
       "<Figure size 720x504 with 1 Axes>"
      ]
     },
     "metadata": {
      "needs_background": "light"
     },
     "output_type": "display_data"
    }
   ],
   "source": [
    "df2[list(filter(lambda x: x != 'rating', df2.columns))]\\\n",
    "    .plot(kind='area', rot=0, stacked=True)"
   ]
  },
  {
   "cell_type": "code",
   "execution_count": 133,
   "metadata": {},
   "outputs": [
    {
     "data": {
      "text/plain": [
       "<matplotlib.axes._subplots.AxesSubplot at 0x2c58badd7f0>"
      ]
     },
     "execution_count": 133,
     "metadata": {},
     "output_type": "execute_result"
    },
    {
     "data": {
      "image/png": "[encoded data removed]",
      "text/plain": [
       "<Figure size 720x504 with 1 Axes>"
      ]
     },
     "metadata": {
      "needs_background": "light"
     },
     "output_type": "display_data"
    }
   ],
   "source": [
    "df2.plot(kind='bar', rot=90)"
   ]
  },
  {
   "cell_type": "markdown",
   "metadata": {},
   "source": [
    "На основе этой визуализации видно, наибольший рейтинг имеют сериалы возрастного ограничения TV-14,то есть сериалы, просмотр которых не рекомендуется лицам до 14 лет."
   ]
  }
 ],
 "metadata": {
  "kernelspec": {
   "display_name": "Python 3",
   "language": "python",
   "name": "python3"
  },
  "language_info": {
   "codemirror_mode": {
    "name": "ipython",
    "version": 3
   },
   "file_extension": ".py",
   "mimetype": "text/x-python",
   "name": "python",
   "nbconvert_exporter": "python",
   "pygments_lexer": "ipython3",
   "version": "3.8.3"
  }
 },
 "nbformat": 4,
 "nbformat_minor": 2
}
