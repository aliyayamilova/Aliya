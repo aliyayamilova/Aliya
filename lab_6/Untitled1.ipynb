{
 "cells": [
  {
   "cell_type": "markdown",
   "metadata": {},
   "source": [
    "Задание 1\n",
    "Скачайте с сайта https://grouplens.org/datasets/movielens/ датасет любого размера. Определите какому фильму было выставлено больше всего оценок 5.0."
   ]
  },
  {
   "cell_type": "code",
   "execution_count": 18,
   "metadata": {},
   "outputs": [],
   "source": [
    "import pandas as pd"
   ]
  },
  {
   "cell_type": "code",
   "execution_count": 19,
   "metadata": {},
   "outputs": [],
   "source": [
    "import numpy as np"
   ]
  },
  {
   "cell_type": "code",
   "execution_count": 18,
   "metadata": {},
   "outputs": [
    {
     "data": {
      "text/plain": [
       "318    39553\n",
       "Name: movieId, dtype: int64"
      ]
     },
     "execution_count": 18,
     "metadata": {},
     "output_type": "execute_result"
    }
   ],
   "source": [
    "movie = pd.read_csv('ratings.csv')\n",
    "movie5=movie.query('rating == {}'.format(5))\n",
    "movie5['movieId'].value_counts().head(1)\n",
    "# movie5.head()"
   ]
  },
  {
   "cell_type": "markdown",
   "metadata": {},
   "source": [
    "Задание 2\n",
    "По данным файла power.csv посчитайте суммарное потребление стран Прибалтики (Латвия, Литва и Эстония) категорий 4, 12 и 21 за период с 2005 по 2010 года. Не учитывайте в расчетах отрицательные значения quantity"
   ]
  },
  {
   "cell_type": "code",
   "execution_count": 30,
   "metadata": {},
   "outputs": [
    {
     "name": "stdout",
     "output_type": "stream",
     "text": [
      "Суммарное потребление стран Прибалтики:  970605.0\n"
     ]
    }
   ],
   "source": [
    "countries = pd.read_csv('power.csv')\n",
    "countries.head()\n",
    "filtered_ = countries[ (countries['country']=='Latvia') | (countries['country']=='Estonia') | (countries['country']=='Lithuania') ]\n",
    "filtered1 = filtered_[ (filtered_.category==4) | (filtered_.category==12) | (filtered_.category==21) ]\n",
    "filtered2 = filtered1[ (filtered1.year>=2005) & (filtered1.year<=2010) & filtered1.quantity>=0  ]\n",
    "sumF = filtered2['quantity'].sum()\n",
    "print (\"Суммарное потребление стран Прибалтики: \", sumF)\n",
    "# filtered2.head(10)"
   ]
  },
  {
   "cell_type": "markdown",
   "metadata": {},
   "source": [
    "Задание 3\n",
    "Выберите страницу любого сайта с табличными данными. Импортируйте таблицы в pandas dataframe.\n",
    "Примеры страниц (необязательно брать именно эти):\n",
    "https://fortrader.org/quotes\n",
    "https://www.finanz.ru/valyuty/v-realnom-vremeni"
   ]
  },
  {
   "cell_type": "code",
   "execution_count": 16,
   "metadata": {},
   "outputs": [
    {
     "data": {
      "text/plain": [
       "[    Unnamed: 0              Рубль  Предложение  Спрос  Предыдущее закрытие  \\\n",
       " 0          NaN            GBP/RUB      1010073      -              1010269   \n",
       " 1          NaN            EUR/RUB       920344      -               920540   \n",
       " 2          NaN            USD/RUB       781808      -               784553   \n",
       " 3          NaN            JPY/RUB        07379      -                07427   \n",
       " 4          NaN            CNY/RUB       115135      -               115537   \n",
       " 5          NaN            CHF/RUB       853343      -               854540   \n",
       " 6          NaN               Евро  Предложение  Спрос  Предыдущее закрытие   \n",
       " 7          NaN            EUR/USD        11774      -                11733   \n",
       " 8          NaN            EUR/GBP        09113      -                09115   \n",
       " 9          NaN            EUR/JPY      1247400      -              1239500   \n",
       " 10         NaN            EUR/CHF        10788      -                10772   \n",
       " 11         NaN         Доллар США  Предложение  Спрос  Предыдущее закрытие   \n",
       " 12         NaN            USD/EUR        08495      -                08523   \n",
       " 13         NaN            USD/GBP        07740      -                07766   \n",
       " 14         NaN            USD/JPY      1059635      -              1056360   \n",
       " 15         NaN            USD/CHF        09164      -                09179   \n",
       " 16         NaN      Японская иена  Предложение  Спрос  Предыдущее закрытие   \n",
       " 17         NaN    JPY/EUR (100:1)        08000      -                08100   \n",
       " 18         NaN            JPY/GBP        00073      -                00074   \n",
       " 19         NaN            JPY/USD        00094      -                00095   \n",
       " 20         NaN    JPY/CHF (100:1)        08600      -                08700   \n",
       " 21         NaN    Фунт стерлингов  Предложение  Спрос  Предыдущее закрытие   \n",
       " 22         NaN            GBP/USD        12919      -                12877   \n",
       " 23         NaN            GBP/JPY      1368856      -              1360249   \n",
       " 24         NaN            GBP/EUR        10975      -                10976   \n",
       " 25         NaN            GBP/CHF        11839      -                11820   \n",
       " 26         NaN  Швейцарский франк  Предложение  Спрос  Предыдущее закрытие   \n",
       " 27         NaN            GBP/CHF        11839      -                11820   \n",
       " 28         NaN            EUR/CHF        10788      -                10772   \n",
       " 29         NaN    JPY/CHF (100:1)        08600      -                08700   \n",
       " 30         NaN            USD/CHF        09164      -                09179   \n",
       " 31         NaN  Украинская гривна  Предложение  Спрос  Предыдущее закрытие   \n",
       " 32         NaN            EUR/UAH       333428      -               332762   \n",
       " 33         NaN            USD/UAH       283250      -               283600   \n",
       " 34         NaN            CHF/UAH       309090      -               308899   \n",
       " 35         NaN            GBP/UAH       365902      -               365192   \n",
       " \n",
       "           %  Абсолютное значение     Время  \n",
       " 0   -0,02 %               -00196  19:59:00  \n",
       " 1   -0,02 %               -00196  19:59:00  \n",
       " 2   -0,35 %               -02745  19:59:00  \n",
       " 3   -0,65 %               -00048  19:59:00  \n",
       " 4   -0,35 %               -00402  19:59:00  \n",
       " 5   -0,14 %               -01197  19:59:00  \n",
       " 6         %  Абсолютное значение     Время  \n",
       " 7    0,35 %                00041  19:59:00  \n",
       " 8   -0,02 %               -00002  19:59:00  \n",
       " 9    0,64 %                07900  19:59:00  \n",
       " 10   0,15 %                00017  19:59:00  \n",
       " 11        %  Абсолютное значение     Время  \n",
       " 12  -0,32 %               -00028  19:59:00  \n",
       " 13  -0,33 %               -00026  19:59:00  \n",
       " 14   0,31 %                03275  19:59:00  \n",
       " 15  -0,16 %               -00015  19:59:00  \n",
       " 16        %  Абсолютное значение     Время  \n",
       " 17  -0,65 %               -00001  19:59:00  \n",
       " 18  -0,64 %               -00001  19:59:00  \n",
       " 19  -0,31 %                00000  19:59:00  \n",
       " 20  -0,49 %                00000  19:59:00  \n",
       " 21        %  Абсолютное значение     Время  \n",
       " 22   0,32 %                00042  19:59:00  \n",
       " 23   0,63 %                08607  19:59:00  \n",
       " 24  -0,01 %               -00001  19:59:00  \n",
       " 25   0,16 %                00019  19:59:00  \n",
       " 26        %  Абсолютное значение     Время  \n",
       " 27   0,16 %                00019  19:59:00  \n",
       " 28   0,15 %                00017  19:59:00  \n",
       " 29  -0,49 %                00000  19:59:00  \n",
       " 30  -0,16 %               -00015  19:59:00  \n",
       " 31        %  Абсолютное значение     Время  \n",
       " 32   0,20 %                00666  19:59:00  \n",
       " 33  -0,12 %               -00350  19:57:00  \n",
       " 34   0,06 %                00191  19:59:00  \n",
       " 35   0,19 %                00711  19:59:00  ]"
      ]
     },
     "execution_count": 16,
     "metadata": {},
     "output_type": "execute_result"
    }
   ],
   "source": [
    "#  page_url = 'https://ru.wikipedia.org/wiki/Список_самых_кассовых_фильмов'\n",
    "# df = pd.read_html(page_url, attrs = {'class': 'wikitable plainrowheaders'}, encoding='utf-8')\n",
    "# df[:3]\n",
    "page_url = 'https://www.finanz.ru/valyuty/v-realnom-vremeni'\n",
    "df = pd.read_html(page_url, attrs = {'class': 'quote_list'}, encoding='utf-8')\n",
    "df[:5]"
   ]
  },
  {
   "cell_type": "markdown",
   "metadata": {},
   "source": [
    "Задание 4\n",
    "Напишите функцию, которая классифицирует фильмы из материалов занятия по следующим правилам:\n",
    "- оценка 2 и меньше - низкий рейтинг\n",
    "- оценка 4 и меньше - средний рейтинг\n",
    "- оценка 4.5 и 5 - высокий рейтинг\n",
    "\n",
    "Результат классификации запишите в столбец class"
   ]
  },
  {
   "cell_type": "code",
   "execution_count": 30,
   "metadata": {},
   "outputs": [
    {
     "data": {
      "text/html": [
       "<div>\n",
       "<style scoped>\n",
       "    .dataframe tbody tr th:only-of-type {\n",
       "        vertical-align: middle;\n",
       "    }\n",
       "\n",
       "    .dataframe tbody tr th {\n",
       "        vertical-align: top;\n",
       "    }\n",
       "\n",
       "    .dataframe thead th {\n",
       "        text-align: right;\n",
       "    }\n",
       "</style>\n",
       "<table border=\"1\" class=\"dataframe\">\n",
       "  <thead>\n",
       "    <tr style=\"text-align: right;\">\n",
       "      <th></th>\n",
       "      <th>userId</th>\n",
       "      <th>movieId</th>\n",
       "      <th>rating</th>\n",
       "      <th>timestamp</th>\n",
       "      <th>class</th>\n",
       "    </tr>\n",
       "  </thead>\n",
       "  <tbody>\n",
       "    <tr>\n",
       "      <th>0</th>\n",
       "      <td>1</td>\n",
       "      <td>296</td>\n",
       "      <td>5.0</td>\n",
       "      <td>1147880044</td>\n",
       "      <td>Высокий рейтинг</td>\n",
       "    </tr>\n",
       "    <tr>\n",
       "      <th>1</th>\n",
       "      <td>1</td>\n",
       "      <td>306</td>\n",
       "      <td>3.5</td>\n",
       "      <td>1147868817</td>\n",
       "      <td>Средний рейтинг</td>\n",
       "    </tr>\n",
       "    <tr>\n",
       "      <th>2</th>\n",
       "      <td>1</td>\n",
       "      <td>307</td>\n",
       "      <td>5.0</td>\n",
       "      <td>1147868828</td>\n",
       "      <td>Высокий рейтинг</td>\n",
       "    </tr>\n",
       "    <tr>\n",
       "      <th>3</th>\n",
       "      <td>1</td>\n",
       "      <td>665</td>\n",
       "      <td>5.0</td>\n",
       "      <td>1147878820</td>\n",
       "      <td>Высокий рейтинг</td>\n",
       "    </tr>\n",
       "    <tr>\n",
       "      <th>4</th>\n",
       "      <td>1</td>\n",
       "      <td>899</td>\n",
       "      <td>3.5</td>\n",
       "      <td>1147868510</td>\n",
       "      <td>Средний рейтинг</td>\n",
       "    </tr>\n",
       "    <tr>\n",
       "      <th>5</th>\n",
       "      <td>1</td>\n",
       "      <td>1088</td>\n",
       "      <td>4.0</td>\n",
       "      <td>1147868495</td>\n",
       "      <td>Средний рейтинг</td>\n",
       "    </tr>\n",
       "    <tr>\n",
       "      <th>6</th>\n",
       "      <td>1</td>\n",
       "      <td>1175</td>\n",
       "      <td>3.5</td>\n",
       "      <td>1147868826</td>\n",
       "      <td>Средний рейтинг</td>\n",
       "    </tr>\n",
       "    <tr>\n",
       "      <th>7</th>\n",
       "      <td>1</td>\n",
       "      <td>1217</td>\n",
       "      <td>3.5</td>\n",
       "      <td>1147878326</td>\n",
       "      <td>Средний рейтинг</td>\n",
       "    </tr>\n",
       "    <tr>\n",
       "      <th>8</th>\n",
       "      <td>1</td>\n",
       "      <td>1237</td>\n",
       "      <td>5.0</td>\n",
       "      <td>1147868839</td>\n",
       "      <td>Высокий рейтинг</td>\n",
       "    </tr>\n",
       "    <tr>\n",
       "      <th>9</th>\n",
       "      <td>1</td>\n",
       "      <td>1250</td>\n",
       "      <td>4.0</td>\n",
       "      <td>1147868414</td>\n",
       "      <td>Средний рейтинг</td>\n",
       "    </tr>\n",
       "  </tbody>\n",
       "</table>\n",
       "</div>"
      ],
      "text/plain": [
       "   userId  movieId  rating   timestamp            class\n",
       "0       1      296     5.0  1147880044  Высокий рейтинг\n",
       "1       1      306     3.5  1147868817  Средний рейтинг\n",
       "2       1      307     5.0  1147868828  Высокий рейтинг\n",
       "3       1      665     5.0  1147878820  Высокий рейтинг\n",
       "4       1      899     3.5  1147868510  Средний рейтинг\n",
       "5       1     1088     4.0  1147868495  Средний рейтинг\n",
       "6       1     1175     3.5  1147868826  Средний рейтинг\n",
       "7       1     1217     3.5  1147878326  Средний рейтинг\n",
       "8       1     1237     5.0  1147868839  Высокий рейтинг\n",
       "9       1     1250     4.0  1147868414  Средний рейтинг"
      ]
     },
     "execution_count": 30,
     "metadata": {},
     "output_type": "execute_result"
    }
   ],
   "source": [
    "    movie = pd.read_csv('ratings.csv')\n",
    "    movie_=movie.query('rating <= {}'.format(2))\n",
    "    movie_['class'] = 'Низкий рейтинг'\n",
    "    movie_=movie.query('rating <= {}'.format(4))\n",
    "    movie_['class'] = 'Средний рейтинг'\n",
    "    movie_=movie.query('rating > {}'.format(4))\n",
    "    movie_['class'] = 'Высокий рейтинг'\n",
    "    movie_.head(10)"
   ]
  },
  {
   "cell_type": "markdown",
   "metadata": {},
   "source": [
    "Задание 5\n",
    "Используем файл keywords.csv.\n",
    "\n",
    "Необходимо написать гео-классификатор, который каждой строке сможет выставить географическую принадлежность определенному региону. Т. е. если поисковый запрос содержит название города региона, то в столбце ‘region’ пишется название этого региона. Если поисковый запрос не содержит названия города, то ставим ‘undefined’.\n",
    "\n",
    "Правила распределения по регионам Центр, Северо-Запад и Дальний Восток:\n",
    "\n",
    "geo_data = {\n",
    "'Центр': ['москва', 'тула', 'ярославль'],\n",
    "'Северо-Запад': ['петербург', 'псков', 'мурманск'],\n",
    "'Дальний Восток': ['владивосток', 'сахалин', 'хабаровск']\n",
    "}\n",
    "\n",
    "Результат классификации запишите в отдельный столбец region."
   ]
  },
  {
   "cell_type": "code",
   "execution_count": null,
   "metadata": {},
   "outputs": [],
   "source": []
  },
  {
   "cell_type": "markdown",
   "metadata": {},
   "source": [
    "Задание 6\n",
    "Есть мнение, что “раньше снимали настоящее кино, не то что сейчас”. Ваша задача проверить это утверждение, используя файлы с рейтингами фильмов из прошлого домашнего занятия (файл ratings.csv из базы https://grouplens.org/datasets/movielens). Т. е. проверить верно ли, что с ростом года выпуска фильма его средний рейтинг становится ниже.\n",
    "\n",
    "При этом мы не будем затрагивать субьективные факторы выставления этих рейтингов, а пройдемся по следующему алгоритму:\n",
    "\n",
    "В переменную years запишите список из всех годов с 1950 по 2010.\n",
    "\n",
    "Напишите функцию production_year, которая каждой строке из названия фильма выставляет год выпуска. Не все названия фильмов содержат год выпуска в одинаковом формате, поэтому используйте следующий алгоритм:\n",
    "\n",
    "для каждой строки пройдите по всем годам списка years\n",
    "если номер года присутствует в названии фильма, то функция возвращает этот год как год выпуска\n",
    "если ни один из номеров года списка years не встретился в названии фильма, то возвращается 1900 год\n",
    "Запишите год выпуска фильма по алгоритму пункта 2 в новый столбец ‘year’\n",
    "\n",
    "Посчитайте средний рейтинг всех фильмов для каждого значения столбца ‘year’ и отсортируйте результат по убыванию рейтинга"
   ]
  },
  {
   "cell_type": "code",
   "execution_count": null,
   "metadata": {},
   "outputs": [],
   "source": []
  }
 ],
 "metadata": {
  "kernelspec": {
   "display_name": "Python 3",
   "language": "python",
   "name": "python3"
  },
  "language_info": {
   "codemirror_mode": {
    "name": "ipython",
    "version": 3
   },
   "file_extension": ".py",
   "mimetype": "text/x-python",
   "name": "python",
   "nbconvert_exporter": "python",
   "pygments_lexer": "ipython3",
   "version": "3.8.3"
  }
 },
 "nbformat": 4,
 "nbformat_minor": 4
}
