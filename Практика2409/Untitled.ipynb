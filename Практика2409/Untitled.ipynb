{
 "cells": [
  {
   "cell_type": "markdown",
   "metadata": {},
   "source": [
    "1. Переведите содержимое файла purchase_log.txt в словарь purchases вида:\n",
    "{‘1840e0b9d4’: ‘Продукты’, …}"
   ]
  },
  {
   "cell_type": "code",
   "execution_count": 13,
   "metadata": {},
   "outputs": [],
   "source": [
    "import json\n",
    "i = 0\n",
    "with open('purchase_log.txt', encoding = 'UTF-8') as f:\n",
    "    purchases={}\n",
    "    for line in f:\n",
    "        line = line.strip()        \n",
    "        dict1 = json.loads(line)\n",
    "        purchases[dict1[\"user_id\"]] = dict1[\"category\"]\n",
    "# for i, dictval in enumerate(purchases.items()):\n",
    "#     print(dictval)\n",
    "#     if i > 10:\n",
    "#         break"
   ]
  },
  {
   "cell_type": "markdown",
   "metadata": {},
   "source": [
    "2. Для каждого user_id в файле visit_log.csv (с данными файлами мы работал на лекции) определите третий столбец с категорией покупки (если покупка была, сам файл visit_log.csv изменять не надо). Запишите в файл funnel.csv визиты из файла visit_log.csv, в которых были покупки с указанием категории."
   ]
  },
  {
   "cell_type": "code",
   "execution_count": 12,
   "metadata": {},
   "outputs": [],
   "source": [
    "f = open('visit_log.csv', 'r', encoding = 'UTF-8')\n",
    "d2={}\n",
    "for line in f:\n",
    "    lineF=line.split(',')\n",
    "    if lineF[0] in purchases.keys():\n",
    "        key=lineF[0]\n",
    "        value=[purchases[key],lineF[1].strip()]\n",
    "        d2.update({key:value})\n",
    "with open('funnel.csv', 'w', encoding='UTF-8') as funnelfile:\n",
    "    for key,value in d2.items():\n",
    "        funnelfile.write(f'{key},{value[0]},{value[1]}\\n')\n"
   ]
  },
  {
   "cell_type": "markdown",
   "metadata": {},
   "source": [
    "Учтите условия на данные:\n",
    "содержимое purchase_log.txt помещается в оперативную память компьютера\n",
    "содержимое visit_log.csv - нет; используйте только построчную обработку этого файла"
   ]
  }
 ],
 "metadata": {
  "kernelspec": {
   "display_name": "Python 3",
   "language": "python",
   "name": "python3"
  },
  "language_info": {
   "codemirror_mode": {
    "name": "ipython",
    "version": 3
   },
   "file_extension": ".py",
   "mimetype": "text/x-python",
   "name": "python",
   "nbconvert_exporter": "python",
   "pygments_lexer": "ipython3",
   "version": "3.8.3"
  }
 },
 "nbformat": 4,
 "nbformat_minor": 4
}
