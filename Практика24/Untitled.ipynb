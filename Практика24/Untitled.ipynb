{
 "cells": [
  {
   "cell_type": "markdown",
   "metadata": {},
   "source": [
    "1. Переведите содержимое файла purchase_log.txt в словарь purchases вида:\n",
    "{‘1840e0b9d4’: ‘Продукты’, …}"
   ]
  },
  {
   "cell_type": "code",
   "execution_count": 48,
   "metadata": {},
   "outputs": [
    {
     "name": "stdout",
     "output_type": "stream",
     "text": [
      "{'user_id': 'category', '1840e0b9d4': 'Продукты', '4e4f90fcfb': 'Электроника', 'afea8d72fc': 'Электроника', '373a6055fe': 'Бытовая техника', '9b2ab046f3': 'Электроника', '9f39d307c3': 'Электроника', '44edeffc91': 'Продукты', '704474fa2d': 'Продукты', '1de31be403': 'Бытовая техника', 'b71f36a5e4': 'Продукты'}\n"
     ]
    }
   ],
   "source": [
    "i = 0\n",
    "with open('purchase_log.txt', encoding = 'UTF-8') as f:\n",
    "    d={}\n",
    "    for line in f:\n",
    "        line = line.strip()        \n",
    "        dict1 = json.loads(line)\n",
    "        d[dict1[\"user_id\"]] = dict1[\"category\"]\n",
    "        i += 1\n",
    "        if i > 10:\n",
    "            break\n",
    "print(d)"
   ]
  },
  {
   "cell_type": "markdown",
   "metadata": {},
   "source": [
    "2. Для каждого user_id в файле visit_log.csv (с данными файлами мы работал на лекции) определите третий столбец с категорией покупки (если покупка была, сам файл visit_log.csv изменять не надо). Запишите в файл funnel.csv визиты из файла visit_log.csv, в которых были покупки с указанием категории."
   ]
  },
  {
   "cell_type": "code",
   "execution_count": 47,
   "metadata": {},
   "outputs": [
    {
     "name": "stdout",
     "output_type": "stream",
     "text": [
      "user_id,source\n",
      "\n",
      "6450655ae8,other\n",
      "\n",
      "b4ea53e670,other\n",
      "\n",
      "0e37347152,other\n",
      "\n",
      "96064ae9e0,other\n",
      "\n",
      "e1bd168161,context\n",
      "\n",
      "71bcf169b4,other\n",
      "\n",
      "e0aee73c5d,other\n",
      "\n",
      "1f8845e157,context\n",
      "\n",
      "78d22c5c78,other\n",
      "\n",
      "dd85040770,other\n",
      "\n",
      "2301051b25,other\n",
      "\n",
      "86835b81ac,context\n",
      "\n",
      "90d9a575a2,other\n",
      "\n",
      "1b75c4f23f,other\n",
      "\n",
      "d94b908660,None\n",
      "\n",
      "f697206af5,other\n",
      "\n",
      "8a9a2de36e,other\n",
      "\n",
      "dd3d43c266,context\n",
      "\n",
      "f6401d302f,context\n",
      "\n",
      "b18d58560b,email\n",
      "\n",
      "ed79586589,other\n",
      "\n",
      "1840e0b9d4,other\n",
      "\n",
      "b4afdc5ccc,other\n",
      "\n",
      "470248aabf,other\n",
      "\n",
      "948d9be43c,other\n",
      "\n",
      "03592d16ac,other\n",
      "\n",
      "8554e1a9f9,context\n",
      "\n",
      "ceda3a4603,other\n",
      "\n",
      "282d7418ae,context\n",
      "\n",
      "6074c89112,context\n",
      "\n",
      "60d796c3bd,other\n",
      "\n",
      "cb9dd569e7,context\n",
      "\n",
      "cc113dcb65,other\n",
      "\n",
      "c0075c117c,other\n",
      "\n",
      "8e3cd5cdcb,other\n",
      "\n",
      "cddb2fc63e,other\n",
      "\n",
      "73ce7c32ef,other\n",
      "\n",
      "f1708b0dba,other\n",
      "\n",
      "2ca3ddb1f8,other\n",
      "\n",
      "3b8889be65,other\n",
      "\n",
      "4d9e8e4506,other\n",
      "\n",
      "9e7e01d962,email\n",
      "\n",
      "da9fe887e0,other\n",
      "\n",
      "892de9fb9c,context\n",
      "\n",
      "37fe632faf,other\n",
      "\n",
      "36e5386eab,other\n",
      "\n",
      "86a94effc6,other\n",
      "\n",
      "bf9d1ad797,other\n",
      "\n",
      "c7d2c1423b,other\n",
      "\n",
      "423bb91bd9,context\n",
      "\n"
     ]
    }
   ],
   "source": [
    "open('funnel.csv', 'w', encoding='UTF-8')\n",
    "f = open('visit_log.csv', 'r',encoding = 'UTF-8')\n",
    "i = 0\n",
    "#for line in f:\n",
    "#    print(line)\n",
    "#    i += 1\n",
    "#    if i > 50:\n",
    "#        break\n",
    "    "
   ]
  },
  {
   "cell_type": "markdown",
   "metadata": {},
   "source": [
    "Учтите условия на данные:\n",
    "содержимое purchase_log.txt помещается в оперативную память компьютера\n",
    "содержимое visit_log.csv - нет; используйте только построчную обработку этого файла"
   ]
  }
 ],
 "metadata": {
  "kernelspec": {
   "display_name": "Python 3",
   "language": "python",
   "name": "python3"
  },
  "language_info": {
   "codemirror_mode": {
    "name": "ipython",
    "version": 3
   },
   "file_extension": ".py",
   "mimetype": "text/x-python",
   "name": "python",
   "nbconvert_exporter": "python",
   "pygments_lexer": "ipython3",
   "version": "3.8.3"
  }
 },
 "nbformat": 4,
 "nbformat_minor": 4
}
